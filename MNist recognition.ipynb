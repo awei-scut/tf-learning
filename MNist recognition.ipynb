{
 "cells": [
  {
   "cell_type": "code",
   "execution_count": 2,
   "metadata": {},
   "outputs": [],
   "source": [
    "import tensorflow as tf"
   ]
  },
  {
   "cell_type": "code",
   "execution_count": 3,
   "metadata": {},
   "outputs": [],
   "source": [
    "from tensorflow.examples.tutorials.mnist import input_data"
   ]
  },
  {
   "cell_type": "code",
   "execution_count": 5,
   "metadata": {},
   "outputs": [
    {
     "name": "stdout",
     "output_type": "stream",
     "text": [
      "Extracting Mnist_data/train-images-idx3-ubyte.gz\n",
      "Extracting Mnist_data/train-labels-idx1-ubyte.gz\n",
      "Extracting Mnist_data/t10k-images-idx3-ubyte.gz\n",
      "Extracting Mnist_data/t10k-labels-idx1-ubyte.gz\n"
     ]
    }
   ],
   "source": [
    "#load data\n",
    "mnist = input_data.read_data_sets(\"Mnist_data\",one_hot=True)"
   ]
  },
  {
   "cell_type": "code",
   "execution_count": 6,
   "metadata": {},
   "outputs": [],
   "source": [
    "batch_size = 200\n",
    "n_batch = mnist.train.num_examples // batch_size"
   ]
  },
  {
   "cell_type": "code",
   "execution_count": null,
   "metadata": {},
   "outputs": [
    {
     "name": "stdout",
     "output_type": "stream",
     "text": [
      "WARNING:tensorflow:From <ipython-input-7-81c383f678fa>:23: softmax_cross_entropy_with_logits (from tensorflow.python.ops.nn_ops) is deprecated and will be removed in a future version.\n",
      "Instructions for updating:\n",
      "\n",
      "Future major versions of TensorFlow will allow gradients to flow\n",
      "into the labels input on backprop by default.\n",
      "\n",
      "See @{tf.nn.softmax_cross_entropy_with_logits_v2}.\n",
      "\n",
      "epoch0, Test acc:0.8855,Train acc:0.87881815\n",
      "epoch1, Test acc:0.909,Train acc:0.90336365\n",
      "epoch2, Test acc:0.9184,Train acc:0.9150182\n",
      "epoch3, Test acc:0.9252,Train acc:0.9236\n",
      "epoch4, Test acc:0.9288,Train acc:0.92874545\n",
      "epoch5, Test acc:0.933,Train acc:0.9340909\n",
      "epoch6, Test acc:0.9354,Train acc:0.9376\n",
      "epoch7, Test acc:0.9392,Train acc:0.9412909\n",
      "epoch8, Test acc:0.9417,Train acc:0.94405454\n",
      "epoch9, Test acc:0.9443,Train acc:0.9472\n",
      "epoch10, Test acc:0.9463,Train acc:0.95018184\n",
      "epoch11, Test acc:0.9475,Train acc:0.95225453\n",
      "epoch12, Test acc:0.9491,Train acc:0.95436364\n",
      "epoch13, Test acc:0.9506,Train acc:0.9565273\n",
      "epoch14, Test acc:0.9514,Train acc:0.95845455\n",
      "epoch15, Test acc:0.9524,Train acc:0.95974547\n",
      "epoch16, Test acc:0.9533,Train acc:0.96123636\n",
      "epoch17, Test acc:0.9541,Train acc:0.9630909\n",
      "epoch18, Test acc:0.9544,Train acc:0.96427274\n",
      "epoch19, Test acc:0.9549,Train acc:0.9649636\n",
      "epoch20, Test acc:0.9566,Train acc:0.9666182\n",
      "epoch21, Test acc:0.9579,Train acc:0.9678\n",
      "epoch22, Test acc:0.957,Train acc:0.96843636\n",
      "epoch23, Test acc:0.9594,Train acc:0.96976364\n",
      "epoch24, Test acc:0.9594,Train acc:0.97063637\n",
      "epoch25, Test acc:0.9615,Train acc:0.9717091\n",
      "epoch26, Test acc:0.9618,Train acc:0.97263634\n",
      "epoch27, Test acc:0.9621,Train acc:0.97336364\n",
      "epoch28, Test acc:0.9637,Train acc:0.9741091\n",
      "epoch29, Test acc:0.9634,Train acc:0.9748\n",
      "epoch30, Test acc:0.9631,Train acc:0.9760727\n",
      "epoch31, Test acc:0.9645,Train acc:0.9761818\n",
      "epoch32, Test acc:0.9653,Train acc:0.97714543\n",
      "epoch33, Test acc:0.9651,Train acc:0.9776545\n",
      "epoch34, Test acc:0.9645,Train acc:0.97827274\n",
      "epoch35, Test acc:0.9646,Train acc:0.97885454\n",
      "epoch36, Test acc:0.9659,Train acc:0.9791818\n",
      "epoch37, Test acc:0.9658,Train acc:0.97974545\n",
      "epoch38, Test acc:0.9674,Train acc:0.97998184\n"
     ]
    }
   ],
   "source": [
    "x = tf.placeholder(tf.float32,[None,784])\n",
    "y = tf.placeholder(tf.float32,[None,10])\n",
    "\n",
    "keep_prob = tf.placeholder(tf.float32)\n",
    "#第一个隐藏层\n",
    "weight_1 = tf.Variable(tf.truncated_normal([784,200],stddev=0.1))\n",
    "bia_1 = tf.Variable(tf.zeros([1,200]),dtype=tf.float32)\n",
    "L_1 = tf.nn.tanh(tf.matmul(x,weight_1) + bia_1)\n",
    "drop_1 = tf.nn.dropout(L_1,keep_prob=keep_prob)\n",
    "#第二个隐藏层\n",
    "weight_2 = tf.Variable(tf.truncated_normal([200,200],stddev=0.1))\n",
    "bia_2 = tf.Variable(tf.zeros([1,200]),dtype=tf.float32)\n",
    "L_2 = tf.nn.tanh(tf.matmul(L_1,weight_2) + bia_2)\n",
    "drop_2 = tf.nn.dropout(L_2,keep_prob=keep_prob)\n",
    "#输出层\n",
    "weight_3 = tf.Variable(tf.zeros([200,10]),dtype=tf.float32)\n",
    "bia_3 = tf.Variable(tf.zeros([1,10]),dtype=tf.float32)\n",
    "predict = tf.nn.softmax(tf.matmul(L_2,weight_3) + bia_3)\n",
    "\n",
    "#loss\n",
    "# loss = tf.reduce_mean(tf.square(y-predict))\n",
    "# another loss\n",
    "loss = tf.reduce_mean(tf.nn.softmax_cross_entropy_with_logits(logits=predict,labels=y))\n",
    "#optimizer\n",
    "train = tf.train.GradientDescentOptimizer(0.2).minimize(loss)\n",
    "# anotehr opotimize\n",
    "# train = tf.train.AdamOptimizer(0.01).minimize(loss)\n",
    "#\n",
    "init = tf.global_variables_initializer()\n",
    "\n",
    "corret_predict = tf.equal(tf.argmax(predict,1),tf.argmax(y,1))\n",
    "accuracy = tf.reduce_mean(tf.cast(corret_predict,tf.float32))\n",
    "\n",
    "with tf.Session() as sess:\n",
    "    sess.run(init)\n",
    "    for epoch in range(60):\n",
    "        for batch in range(n_batch):\n",
    "            batch_x,batct_y = mnist.train.next_batch(batch_size)\n",
    "            sess.run(train,feed_dict={x:batch_x,y:batct_y,keep_prob:0.7})\n",
    "        acc_train = sess.run(accuracy,feed_dict={x:mnist.train.images,y:mnist.train.labels})\n",
    "        acc = sess.run(accuracy,feed_dict={x:mnist.test.images,y:mnist.test.labels})\n",
    "        print(\"epoch\"+ str(epoch) + \", Test acc:\" + str(acc) +\",Train acc:\" + str(acc_train))\n",
    "        \n",
    "        \n",
    "        \n",
    "#网络比较大的时候 初始化参数不适合全为0"
   ]
  }
 ],
 "metadata": {
  "kernelspec": {
   "display_name": "Python 3",
   "language": "python",
   "name": "python3"
  },
  "language_info": {
   "codemirror_mode": {
    "name": "ipython",
    "version": 3
   },
   "file_extension": ".py",
   "mimetype": "text/x-python",
   "name": "python",
   "nbconvert_exporter": "python",
   "pygments_lexer": "ipython3",
   "version": "3.6.8"
  }
 },
 "nbformat": 4,
 "nbformat_minor": 2
}
