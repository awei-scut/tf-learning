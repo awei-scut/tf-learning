{
 "cells": [
  {
   "cell_type": "code",
   "execution_count": 1,
   "metadata": {},
   "outputs": [],
   "source": [
    "import tensorflow as tf\n",
    "import numpy as np\n",
    "import matplotlib.pyplot as plt"
   ]
  },
  {
   "cell_type": "code",
   "execution_count": 2,
   "metadata": {},
   "outputs": [],
   "source": [
    "x_data = np.linspace(-0.5,0.5,100)[:,np.newaxis]\n",
    "# x_data = x_data.reshape([100,1])\n",
    "noise = np.random.normal(0,0.02,x_data.shape)\n",
    "y_data = np.square(x_data) + noise "
   ]
  },
  {
   "cell_type": "code",
   "execution_count": 3,
   "metadata": {},
   "outputs": [],
   "source": [
    "##\n",
    "x = tf.placeholder(tf.float32,[None,1])\n",
    "y = tf.placeholder(tf.float32,[None,1])"
   ]
  },
  {
   "cell_type": "code",
   "execution_count": 4,
   "metadata": {},
   "outputs": [],
   "source": [
    "#定义输入层神经网络\n",
    "weight_1 = tf.Variable(tf.random_normal([1,10]))\n",
    "bias_1 = tf.Variable(tf.random_normal([1,10]))\n",
    "l1 = tf.matmul(x,weight_1) + bias_1\n",
    "output_l1 = tf.nn.tanh(l1)"
   ]
  },
  {
   "cell_type": "code",
   "execution_count": 5,
   "metadata": {},
   "outputs": [],
   "source": [
    "#定义输出层神经网络\n",
    "weight_2 = tf.Variable(tf.random_normal([10,1]))\n",
    "bias_2 = tf.Variable(tf.random_normal([1,1]))\n",
    "l2 = tf.matmul(output_l1,weight_2) + bias_2\n",
    "predict = tf.nn.tanh(l2)"
   ]
  },
  {
   "cell_type": "code",
   "execution_count": 20,
   "metadata": {},
   "outputs": [
    {
     "name": "stdout",
     "output_type": "stream",
     "text": [
      "Iter 0  loss0.8855847\n",
      "Iter 200  loss0.011714433\n",
      "Iter 400  loss0.0008596063\n",
      "Iter 600  loss0.00057824655\n",
      "Iter 800  loss0.0005653993\n",
      "Iter 1000  loss0.0005569293\n",
      "Iter 1200  loss0.00054885284\n",
      "Iter 1400  loss0.0005410748\n",
      "Iter 1600  loss0.0005335982\n",
      "Iter 1800  loss0.0005264434\n"
     ]
    },
    {
     "data": {
      "image/png": "[encoded data removed]",
      "text/plain": [
       "<Figure size 432x288 with 1 Axes>"
      ]
     },
     "metadata": {
      "needs_background": "light"
     },
     "output_type": "display_data"
    }
   ],
   "source": [
    "#\n",
    "loss = tf.reduce_mean(tf.square(predict-y))\n",
    "# #\n",
    "train = tf.train.GradientDescentOptimizer(0.2).minimize(loss)\n",
    "init = tf.global_variables_initializer()\n",
    "\n",
    "with tf.Session() as sess:\n",
    "    sess.run(init)\n",
    "    \n",
    "    for step in range(2000):\n",
    "        sess.run(train,feed_dict={x:x_data,y:y_data})\n",
    "        l = sess.run(loss,feed_dict={x:x_data,y:y_data})\n",
    "        if step % 200 == 0:\n",
    "            print(\"Iter \"+str(step) + \"  loss\" + str(l))  \n",
    "            prediction = sess.run(predict,feed_dict={x:x_data})\n",
    "plt.figure()\n",
    "plt.scatter(x_data,y_data)\n",
    "plt.plot(x_data,prediction,'-r',lw=6)\n",
    "plt.show()\n",
    "    "
   ]
  },
  {
   "cell_type": "code",
   "execution_count": null,
   "metadata": {},
   "outputs": [],
   "source": []
  }
 ],
 "metadata": {
  "kernelspec": {
   "display_name": "Python 3",
   "language": "python",
   "name": "python3"
  },
  "language_info": {
   "codemirror_mode": {
    "name": "ipython",
    "version": 3
   },
   "file_extension": ".py",
   "mimetype": "text/x-python",
   "name": "python",
   "nbconvert_exporter": "python",
   "pygments_lexer": "ipython3",
   "version": "3.6.8"
  }
 },
 "nbformat": 4,
 "nbformat_minor": 2
}
